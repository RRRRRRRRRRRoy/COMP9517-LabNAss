{
 "metadata": {
  "language_info": {
   "codemirror_mode": {
    "name": "ipython",
    "version": 3
   },
   "file_extension": ".py",
   "mimetype": "text/x-python",
   "name": "python",
   "nbconvert_exporter": "python",
   "pygments_lexer": "ipython3",
   "version": "3.8.6-final"
  },
  "orig_nbformat": 2,
  "kernelspec": {
   "name": "python38664bittf24condabc5b802ee3af4524938df3daabe16a53",
   "display_name": "Python 3.8.6 64-bit ('tf24': conda)",
   "language": "python"
  }
 },
 "nbformat": 4,
 "nbformat_minor": 2,
 "cells": [
  {
   "cell_type": "code",
   "execution_count": null,
   "metadata": {},
   "outputs": [],
   "source": [
    "# This jupyter notebook is for COMP9517 lab03"
   ]
  },
  {
   "cell_type": "code",
   "execution_count": 1,
   "metadata": {},
   "outputs": [],
   "source": [
    "import numpy as np \n",
    "import matplotlib.pyplot as pyplot\n",
    "from sklearn.model_selection import train_test_split\n",
    "from sklearn import metrics"
   ]
  },
  {
   "cell_type": "code",
   "execution_count": 3,
   "metadata": {},
   "outputs": [],
   "source": [
    "from tensorflow import keras"
   ]
  },
  {
   "cell_type": "code",
   "execution_count": 9,
   "metadata": {},
   "outputs": [],
   "source": [
    "# import the data set from keras\n",
    "fashion_mnist = keras.datasets.fashion_mnist"
   ]
  },
  {
   "cell_type": "code",
   "execution_count": 8,
   "metadata": {},
   "outputs": [
    {
     "output_type": "execute_result",
     "data": {
      "text/plain": [
       "module"
      ]
     },
     "metadata": {},
     "execution_count": 8
    }
   ],
   "source": [
    "# check the type of the fashion_mnist\n",
    "type(fashion_mnist)"
   ]
  },
  {
   "cell_type": "code",
   "execution_count": 15,
   "metadata": {},
   "outputs": [],
   "source": [
    "# Import date the the fanshion mnist\n",
    "(train_images, train_labels),(test_images, test_labels)= fashion_mnist.load_data()"
   ]
  },
  {
   "cell_type": "code",
   "execution_count": 16,
   "metadata": {},
   "outputs": [
    {
     "output_type": "stream",
     "name": "stdout",
     "text": [
      "training images: 60000\ntraining labels: 60000\n"
     ]
    }
   ],
   "source": [
    "# check the length of. the training image and training labels\n",
    "# If correct the data should be 60000\n",
    "print(f\"training images: {len(train_images)}\")\n",
    "print(f\"training labels: {len(train_labels)}\")"
   ]
  },
  {
   "cell_type": "code",
   "execution_count": 17,
   "metadata": {},
   "outputs": [
    {
     "output_type": "stream",
     "name": "stdout",
     "text": [
      "testing images: 10000\ntesting labels: 10000\n"
     ]
    }
   ],
   "source": [
    "# check the length of. the testing image and testing labels\n",
    "# If correct the data should be 10000\n",
    "print(f\"testing images: {len(test_images)}\")\n",
    "print(f\"testing labels: {len(test_labels)}\")"
   ]
  },
  {
   "cell_type": "code",
   "execution_count": 19,
   "metadata": {},
   "outputs": [
    {
     "output_type": "stream",
     "name": "stdout",
     "text": [
      "The shape of the training images: (60000, 28, 28)\nThe shape of the testing images: (10000, 28, 28)\nThe shape of the training labels: (60000,)\nThe shape of the testing labels: (10000,)\n"
     ]
    }
   ],
   "source": [
    "# check the shape of the training images\n",
    "print(f\"The shape of the training images: {train_images.shape}\")\n",
    "print(f\"The shape of the testing images: {test_images.shape}\")\n",
    "print(f\"The shape of the training labels: {train_labels.shape}\")\n",
    "print(f\"The shape of the testing labels: {test_labels.shape}\")"
   ]
  },
  {
   "cell_type": "code",
   "execution_count": 21,
   "metadata": {},
   "outputs": [
    {
     "output_type": "stream",
     "name": "stdout",
     "text": [
      "The minimum of the training labels: 0\nThe maximum of the training labels: 9\n"
     ]
    }
   ],
   "source": [
    "# Check the labels of data\n",
    "print(f\"The minimum of the training labels: {np.min(train_labels)}\")\n",
    "print(f\"The maximum of the training labels: {np.max(train_labels)}\")"
   ]
  },
  {
   "cell_type": "code",
   "execution_count": null,
   "metadata": {},
   "outputs": [],
   "source": []
  }
 ]
}