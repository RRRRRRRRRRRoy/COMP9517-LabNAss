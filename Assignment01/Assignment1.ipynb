{
 "metadata": {
  "language_info": {
   "codemirror_mode": {
    "name": "ipython",
    "version": 3
   },
   "file_extension": ".py",
   "mimetype": "text/x-python",
   "name": "python",
   "nbconvert_exporter": "python",
   "pygments_lexer": "ipython3",
   "version": "3.8.8-final"
  },
  "orig_nbformat": 2,
  "kernelspec": {
   "name": "python38864bitcvconda4a021f8002a64a71b718fa33fea9fb68",
   "display_name": "Python 3.8.8 64-bit ('cv': conda)",
   "language": "python"
  }
 },
 "nbformat": 4,
 "nbformat_minor": 2,
 "cells": [
  {
   "cell_type": "code",
   "execution_count": 7,
   "metadata": {},
   "outputs": [],
   "source": [
    "# This jupyter notebook is for UNSW COMP9517\n",
    "# Assignment 01 Cell Detection"
   ]
  },
  {
   "cell_type": "code",
   "execution_count": 2,
   "metadata": {},
   "outputs": [],
   "source": [
    "import cv2\n",
    "import numpy as np "
   ]
  },
  {
   "cell_type": "code",
   "execution_count": null,
   "metadata": {},
   "outputs": [],
   "source": [
    "# This function is to implement Otsu algorithm\n",
    "# STEP 1 Compute histogram and probabilities of each intensity pixel\n",
    "# STEP 2 Setup initial w0 and u0\n",
    "# STEP 3 Step through all possible thresholds t=1,...maximum intensity\n",
    "#           a. Update wi and ui b. Compute 𝜎\n",
    "# STEP 4 Desired threshold corresponds to the maximum 𝜎\n",
    "\n",
    "\n",
    "def Otsu(image_name):\n",
    "    # Read the image from the dir\n",
    "    image = cv2.imread(image_name,0)\n",
    "    # STEP 1: calculating the histogram "
   ]
  }
 ]
}