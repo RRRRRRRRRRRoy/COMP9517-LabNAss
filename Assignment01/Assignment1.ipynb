{
 "metadata": {
  "language_info": {
   "codemirror_mode": {
    "name": "ipython",
    "version": 3
   },
   "file_extension": ".py",
   "mimetype": "text/x-python",
   "name": "python",
   "nbconvert_exporter": "python",
   "pygments_lexer": "ipython3",
   "version": "3.8.8-final"
  },
  "orig_nbformat": 2,
  "kernelspec": {
   "name": "python38864bitcvconda4a021f8002a64a71b718fa33fea9fb68",
   "display_name": "Python 3.8.8 64-bit ('cv': conda)",
   "language": "python"
  }
 },
 "nbformat": 4,
 "nbformat_minor": 2,
 "cells": [
  {
   "cell_type": "code",
   "execution_count": 7,
   "metadata": {},
   "outputs": [],
   "source": [
    "# This jupyter notebook is for UNSW COMP9517\n",
    "# Assignment 01 Cell Detection"
   ]
  },
  {
   "cell_type": "code",
   "execution_count": 14,
   "metadata": {},
   "outputs": [],
   "source": [
    "import cv2\n",
    "import numpy as np "
   ]
  },
  {
   "cell_type": "code",
   "execution_count": 15,
   "metadata": {},
   "outputs": [],
   "source": [
    "# This function is to implement Otsu algorithm\n",
    "# STEP 1 Compute histogram and probabilities of each intensity pixel\n",
    "# STEP 2 Setup initial w0 and u0\n",
    "# STEP 3 Step through all possible thresholds t=1,...maximum intensity\n",
    "#           a. Update wi and ui b. Compute 𝜎\n",
    "# STEP 4 Desired threshold corresponds to the maximum 𝜎\n",
    "\n",
    "\n",
    "def Otsu(image_name):\n",
    "    # Read the image from the dir\n",
    "    image = cv2.imread(image_name,0)\n",
    "    # STEP 1: calculating the histogram \n",
    "    frequency_vector = [0 for i in range(0,256)]\n",
    "    frequency_vector = np.array(frequency_vector)\n",
    "    # test the type of the list\n",
    "    print(type(frequency_vector))\n",
    "    row = image.shape[0]\n",
    "    col = image.shape[1]\n",
    "    for r in row:\n",
    "        for c in col:\n",
    "            point_value = image[i,j]\n",
    "            frequency_vector[point_value] += 1\n",
    "    \n",
    "    total_pixels = row * col\n",
    "    # The value of the pixel is 0 ----> get the value\n",
    "    # pixel_value which is 0 is the foreground\n",
    "    # pixel_value which is not 0 is the background\n",
    "    foreground_pixel = frequency_vector[0]\n",
    "    background_pixel = total_pixels - foreground_pixel\n",
    "\n",
    "    # initialize the size\n",
    "    foreground_pixel_total_value = 0 \n",
    "    background_pixel_total_value = 0\n",
    "\n",
    "    for index in range(0,256,1):\n",
    "        # This step is to do the Statistics\n",
    "        # \n",
    "        background_pixel_total_value = background_pixel_total_value + i * frequency_vector[i]\n",
    "\n",
    "    # w0 is the proportion of foreground pixels in the entire image\n",
    "    w0 = foreground_pixel/total_pixels\n",
    "    # w1 is the proportion of background pixels in the entire image\n",
    "    w1 = background_pixel/total_pixels\n",
    "\n",
    "    # u0 is the mean of the foreground pixel value\n",
    "    # This means using the total value of foreground pixel to devide the total number of the foreground pixels\n",
    "    if foreground_pixel <= 0:\n",
    "        u0 = 0\n",
    "    else:\n",
    "        u0 = foreground_pixel_total_value / foreground_pixel\n",
    "\n",
    "    # u1 is the mean of the background pixel value\n",
    "    # This means using the total value of background pixel to devide the total number of the background pixels\n",
    "    if background_pixel <= 0:\n",
    "        u1 = 0\n",
    "    else:\n",
    "        # sigma^2_b(t)=omega_1(t) * omega_2(t) * [ mu_1(t) - mu_2(t) ]^2\n",
    "        # Source: https://en.wikipedia.org/wiki/Otsu%27s_method#cite_note-Otsu-2\n",
    "        u1 = background_pixel_total_value / background_pixe l\n"
   ]
  },
  {
   "cell_type": "code",
   "execution_count": null,
   "metadata": {},
   "outputs": [],
   "source": []
  }
 ]
}